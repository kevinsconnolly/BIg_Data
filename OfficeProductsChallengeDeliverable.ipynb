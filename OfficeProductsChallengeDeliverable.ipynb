{
  "nbformat": 4,
  "nbformat_minor": 0,
  "metadata": {
    "colab": {
      "name": "OfficeProductsChallengeDeliverable.ipynb",
      "provenance": [],
      "collapsed_sections": [],
      "authorship_tag": "ABX9TyNnUrgkMmssvD8DJRgZubFO",
      "include_colab_link": true
    },
    "kernelspec": {
      "name": "python3",
      "display_name": "Python 3"
    }
  },
  "cells": [
    {
      "cell_type": "markdown",
      "metadata": {
        "id": "view-in-github",
        "colab_type": "text"
      },
      "source": [
        "<a href=\"https://colab.research.google.com/github/kevinsconnolly/Big_Data/blob/master/OfficeProductsChallengeDeliverable.ipynb\" target=\"_parent\"><img src=\"https://colab.research.google.com/assets/colab-badge.svg\" alt=\"Open In Colab\"/></a>"
      ]
    },
    {
      "cell_type": "code",
      "metadata": {
        "id": "EgcdF6vL_mvd",
        "colab_type": "code",
        "colab": {
          "base_uri": "https://localhost:8080/",
          "height": 230
        },
        "outputId": "18f411a8-afd9-4720-d05a-b7ea97f1e17e"
      },
      "source": [
        "import os\n",
        "# Find the latest version of spark 3.0  from http://www-us.apache.org/dist/spark/ and enter as the spark version\n",
        "# For example:\n",
        "# spark_version = 'spark-3.0.0'\n",
        "spark_version = 'spark-3.0.1'\n",
        "os.environ['SPARK_VERSION']=spark_version\n",
        "\n",
        "# Install Spark and Java\n",
        "!apt-get update\n",
        "!apt-get install openjdk-11-jdk-headless -qq > /dev/null\n",
        "!wget -q http://www-us.apache.org/dist/spark/$SPARK_VERSION/$SPARK_VERSION-bin-hadoop2.7.tgz\n",
        "!tar xf $SPARK_VERSION-bin-hadoop2.7.tgz\n",
        "!pip install -q findspark\n",
        "\n",
        "# Set Environment Variables\n",
        "import os\n",
        "os.environ[\"JAVA_HOME\"] = \"/usr/lib/jvm/java-11-openjdk-amd64\"\n",
        "os.environ[\"SPARK_HOME\"] = f\"/content/{spark_version}-bin-hadoop2.7\"\n",
        "\n",
        "# Start a SparkSession\n",
        "import findspark\n",
        "findspark.init()"
      ],
      "execution_count": null,
      "outputs": [
        {
          "output_type": "stream",
          "text": [
            "\r0% [Working]\r            \rHit:1 http://security.ubuntu.com/ubuntu bionic-security InRelease\n",
            "Ign:2 https://developer.download.nvidia.com/compute/cuda/repos/ubuntu1804/x86_64  InRelease\n",
            "Ign:3 https://developer.download.nvidia.com/compute/machine-learning/repos/ubuntu1804/x86_64  InRelease\n",
            "Hit:4 https://developer.download.nvidia.com/compute/cuda/repos/ubuntu1804/x86_64  Release\n",
            "Hit:5 https://developer.download.nvidia.com/compute/machine-learning/repos/ubuntu1804/x86_64  Release\n",
            "Hit:6 http://ppa.launchpad.net/graphics-drivers/ppa/ubuntu bionic InRelease\n",
            "Hit:7 http://archive.ubuntu.com/ubuntu bionic InRelease\n",
            "Hit:8 http://archive.ubuntu.com/ubuntu bionic-updates InRelease\n",
            "Hit:9 http://ppa.launchpad.net/marutter/c2d4u3.5/ubuntu bionic InRelease\n",
            "Hit:10 http://archive.ubuntu.com/ubuntu bionic-backports InRelease\n",
            "Hit:13 https://cloud.r-project.org/bin/linux/ubuntu bionic-cran35/ InRelease\n",
            "Reading package lists... Done\n"
          ],
          "name": "stdout"
        }
      ]
    },
    {
      "cell_type": "code",
      "metadata": {
        "id": "fnMAclZs_6eZ",
        "colab_type": "code",
        "colab": {
          "base_uri": "https://localhost:8080/",
          "height": 212
        },
        "outputId": "3d3078a2-fa62-45fc-edc9-b0a30d11fb2c"
      },
      "source": [
        "!wget https://jdbc.postgresql.org/download/postgresql-42.2.16.jar"
      ],
      "execution_count": null,
      "outputs": [
        {
          "output_type": "stream",
          "text": [
            "--2020-09-20 23:10:16--  https://jdbc.postgresql.org/download/postgresql-42.2.16.jar\n",
            "Resolving jdbc.postgresql.org (jdbc.postgresql.org)... 72.32.157.228, 2001:4800:3e1:1::228\n",
            "Connecting to jdbc.postgresql.org (jdbc.postgresql.org)|72.32.157.228|:443... connected.\n",
            "HTTP request sent, awaiting response... 200 OK\n",
            "Length: 1002883 (979K) [application/java-archive]\n",
            "Saving to: ‘postgresql-42.2.16.jar.7’\n",
            "\n",
            "postgresql-42.2.16. 100%[===================>] 979.38K  --.-KB/s    in 0.1s    \n",
            "\n",
            "2020-09-20 23:10:16 (9.12 MB/s) - ‘postgresql-42.2.16.jar.7’ saved [1002883/1002883]\n",
            "\n"
          ],
          "name": "stdout"
        }
      ]
    },
    {
      "cell_type": "code",
      "metadata": {
        "id": "8AbZ6KfT_6iF",
        "colab_type": "code",
        "colab": {}
      },
      "source": [
        "from pyspark.sql import SparkSession\n",
        "spark = SparkSession.builder.appName(\"CloudETL\").config(\"spark.driver.extraClassPath\",\"/content/postgresql-42.2.16.jar\").getOrCreate()"
      ],
      "execution_count": null,
      "outputs": []
    },
    {
      "cell_type": "code",
      "metadata": {
        "id": "f-e50dmw_6oX",
        "colab_type": "code",
        "colab": {}
      },
      "source": [
        "# Read in data from S3 Buckets\n",
        "from pyspark import SparkFiles\n",
        "url =\"https://s3.amazonaws.com/amazon-reviews-pds/tsv/amazon_reviews_us_Office_Products_v1_00.tsv.gz\"\n",
        "spark.sparkContext.addFile(url)\n",
        "df = spark.read.csv(SparkFiles.get(\"amazon_reviews_us_Office_Products_v1_00.tsv.gz\"), sep=\"\\t\", header=True)"
      ],
      "execution_count": null,
      "outputs": []
    },
    {
      "cell_type": "code",
      "metadata": {
        "id": "M2mQnNRC_6uV",
        "colab_type": "code",
        "colab": {
          "base_uri": "https://localhost:8080/",
          "height": 499
        },
        "outputId": "2a9a66b1-0456-471d-90c3-1b4071248d5d"
      },
      "source": [
        "df.show()"
      ],
      "execution_count": null,
      "outputs": [
        {
          "output_type": "stream",
          "text": [
            "+-----------+-----------+--------------+----------+--------------+--------------------+----------------+-----------+-------------+-----------+----+-----------------+--------------------+--------------------+-----------+\n",
            "|marketplace|customer_id|     review_id|product_id|product_parent|       product_title|product_category|star_rating|helpful_votes|total_votes|vine|verified_purchase|     review_headline|         review_body|review_date|\n",
            "+-----------+-----------+--------------+----------+--------------+--------------------+----------------+-----------+-------------+-----------+----+-----------------+--------------------+--------------------+-----------+\n",
            "|         US|   43081963|R18RVCKGH1SSI9|B001BM2MAC|     307809868|Scotch Cushion Wr...| Office Products|          5|            0|          0|   N|                Y|          Five Stars|      Great product.| 2015-08-31|\n",
            "|         US|   10951564|R3L4L6LW1PUOFY|B00DZYEXPQ|      75004341|Dust-Off Compress...| Office Products|          5|            0|          1|   N|                Y|Phffffffft, Phfff...|What's to say abo...| 2015-08-31|\n",
            "|         US|   21143145|R2J8AWXWTDX2TF|B00RTMUHDW|     529689027|Amram Tagger Stan...| Office Products|          5|            0|          0|   N|                Y|but I am sure I w...|Haven't used yet,...| 2015-08-31|\n",
            "|         US|   52782374|R1PR37BR7G3M6A|B00D7H8XB6|     868449945|AmazonBasics 12-S...| Office Products|          1|            2|          3|   N|                Y|and the shredder ...|Although this was...| 2015-08-31|\n",
            "|         US|   24045652|R3BDDDZMZBZDPU|B001XCWP34|      33521401|Derwent Colored P...| Office Products|          4|            0|          0|   N|                Y|          Four Stars|Gorgeous colors a...| 2015-08-31|\n",
            "|         US|   21751234| R8T6MO75ND212|B004J2NBCO|     214932869|Quartet Magnetic ...| Office Products|          5|            0|          0|   N|                Y|          Five Stars|Perfect for plann...| 2015-08-31|\n",
            "|         US|    9109358|R2YWMQT2V11XYZ|B00MOPAG8K|     863351797|KITLEX40X2592UNV2...| Office Products|          5|            0|          0|   N|                N|          Five Stars|Gold plated fuser...| 2015-08-31|\n",
            "|         US|    9967215|R1V2HYL6OI9V39|B003AHIK7U|     383470576|Bible Dry Highlig...| Office Products|          5|            6|          6|   N|                Y|Won't bleed throu...|I have used these...| 2015-08-31|\n",
            "|         US|   11234247|R3BLQBKUNXGFS4|B006TKH2RO|     999128878|Parker Ingenuity ...| Office Products|          5|            0|          0|   N|                Y|           Nice pen!|Heavy pen that wr...| 2015-08-31|\n",
            "|         US|   12731488|R17MOWJCAR9Y8Q|B00W61M9K0|     622066861| RFID Card Protector| Office Products|          5|            0|          0|   N|                Y| Credit card sleeves|Not sure if they ...| 2015-08-31|\n",
            "|         US|   49861762|R11EPG1GHOXMGB|B00BXOGI3A|     688569009|The Original Stan...| Office Products|          4|            0|          0|   N|                N|          Four Stars|Great product for...| 2015-08-31|\n",
            "|         US|    1541556|R2797NKTEX5THN|B0018RHWGE|     513803406|Zebra Sparky-1 WK...| Office Products|          5|            0|          0|   N|                Y|Love these highli...|Love these highli...| 2015-08-31|\n",
            "|         US|   10579374|R2RUTMJS50E4WF|B00IA8H2OG|     201212366|E-Z Ink (TM) Comp...| Office Products|          5|            0|          0|   N|                Y|          Five Stars|Received on time,...| 2015-08-31|\n",
            "|         US|   43622307|R1FZYL1HX7O4RM|B007TOIA66|     954138793|Eric 11\" Giant Si...| Office Products|          1|            0|          0|   N|                Y|            One Star|worked about a mo...| 2015-08-31|\n",
            "|         US|   50773856|R22ENT0KU5CHPX|B00EANURCE|      43216076|Brother MFCJ450 W...| Office Products|          5|            0|          0|   N|                Y|Brothers Wireless...|I purchased this ...| 2015-08-31|\n",
            "|         US|   10165223|R2E5M7FWJC9JLE|B00T3Q0EOO|     637096152|Clarity D613 DECT...| Office Products|          5|            0|          0|   N|                Y|          Five Stars|Everything works ...| 2015-08-31|\n",
            "|         US|   14744748|R31BNW3O2Q5J3E|B00WN0N818|     710040412|Permo 50 Feet Whi...| Office Products|          5|            0|          0|   N|                Y|          Five Stars|          Thank you!| 2015-08-31|\n",
            "|         US|   37536631|R1JMQF1OOMNF49|B001GAOTSW|     696023182|Pilot G2 Retracta...| Office Products|          5|            0|          0|   N|                Y|          Five Stars|     Love these pens| 2015-08-31|\n",
            "|         US|     126687| RJH6WQDOA6CZP|B003BNY7PW|     474277918|AT&T DECT 6.0 Acc...| Office Products|          5|            0|          0|   N|                Y|          Five Stars|The product is ev...| 2015-08-31|\n",
            "|         US|   31130095|R2EVL0Z5JVV86X|B00092RJX0|     887474295|Pilot G2 Retracta...| Office Products|          5|            0|          0|   N|                Y|          Five Stars|           Great buy| 2015-08-31|\n",
            "+-----------+-----------+--------------+----------+--------------+--------------------+----------------+-----------+-------------+-----------+----+-----------------+--------------------+--------------------+-----------+\n",
            "only showing top 20 rows\n",
            "\n"
          ],
          "name": "stdout"
        }
      ]
    },
    {
      "cell_type": "code",
      "metadata": {
        "id": "BULN868L_62d",
        "colab_type": "code",
        "colab": {
          "base_uri": "https://localhost:8080/",
          "height": 35
        },
        "outputId": "fa304c0b-7aa5-46b5-8479-e22891893eea"
      },
      "source": [
        "df.count()"
      ],
      "execution_count": null,
      "outputs": [
        {
          "output_type": "execute_result",
          "data": {
            "text/plain": [
              "2642434"
            ]
          },
          "metadata": {
            "tags": []
          },
          "execution_count": 6
        }
      ]
    },
    {
      "cell_type": "code",
      "metadata": {
        "id": "9jmc7UPo_60-",
        "colab_type": "code",
        "colab": {}
      },
      "source": [
        "# Drop any rows with either null or “not a number” (NaN) values\n",
        "office_df = df.dropna()"
      ],
      "execution_count": null,
      "outputs": []
    },
    {
      "cell_type": "code",
      "metadata": {
        "id": "DtfMbZ6L_6y_",
        "colab_type": "code",
        "colab": {
          "base_uri": "https://localhost:8080/",
          "height": 499
        },
        "outputId": "3bcc0137-e21f-4f6f-aa03-ecb15eac5253"
      },
      "source": [
        "office_df.show()"
      ],
      "execution_count": null,
      "outputs": [
        {
          "output_type": "stream",
          "text": [
            "+-----------+-----------+--------------+----------+--------------+--------------------+----------------+-----------+-------------+-----------+----+-----------------+--------------------+--------------------+-----------+\n",
            "|marketplace|customer_id|     review_id|product_id|product_parent|       product_title|product_category|star_rating|helpful_votes|total_votes|vine|verified_purchase|     review_headline|         review_body|review_date|\n",
            "+-----------+-----------+--------------+----------+--------------+--------------------+----------------+-----------+-------------+-----------+----+-----------------+--------------------+--------------------+-----------+\n",
            "|         US|   43081963|R18RVCKGH1SSI9|B001BM2MAC|     307809868|Scotch Cushion Wr...| Office Products|          5|            0|          0|   N|                Y|          Five Stars|      Great product.| 2015-08-31|\n",
            "|         US|   10951564|R3L4L6LW1PUOFY|B00DZYEXPQ|      75004341|Dust-Off Compress...| Office Products|          5|            0|          1|   N|                Y|Phffffffft, Phfff...|What's to say abo...| 2015-08-31|\n",
            "|         US|   21143145|R2J8AWXWTDX2TF|B00RTMUHDW|     529689027|Amram Tagger Stan...| Office Products|          5|            0|          0|   N|                Y|but I am sure I w...|Haven't used yet,...| 2015-08-31|\n",
            "|         US|   52782374|R1PR37BR7G3M6A|B00D7H8XB6|     868449945|AmazonBasics 12-S...| Office Products|          1|            2|          3|   N|                Y|and the shredder ...|Although this was...| 2015-08-31|\n",
            "|         US|   24045652|R3BDDDZMZBZDPU|B001XCWP34|      33521401|Derwent Colored P...| Office Products|          4|            0|          0|   N|                Y|          Four Stars|Gorgeous colors a...| 2015-08-31|\n",
            "|         US|   21751234| R8T6MO75ND212|B004J2NBCO|     214932869|Quartet Magnetic ...| Office Products|          5|            0|          0|   N|                Y|          Five Stars|Perfect for plann...| 2015-08-31|\n",
            "|         US|    9109358|R2YWMQT2V11XYZ|B00MOPAG8K|     863351797|KITLEX40X2592UNV2...| Office Products|          5|            0|          0|   N|                N|          Five Stars|Gold plated fuser...| 2015-08-31|\n",
            "|         US|    9967215|R1V2HYL6OI9V39|B003AHIK7U|     383470576|Bible Dry Highlig...| Office Products|          5|            6|          6|   N|                Y|Won't bleed throu...|I have used these...| 2015-08-31|\n",
            "|         US|   11234247|R3BLQBKUNXGFS4|B006TKH2RO|     999128878|Parker Ingenuity ...| Office Products|          5|            0|          0|   N|                Y|           Nice pen!|Heavy pen that wr...| 2015-08-31|\n",
            "|         US|   12731488|R17MOWJCAR9Y8Q|B00W61M9K0|     622066861| RFID Card Protector| Office Products|          5|            0|          0|   N|                Y| Credit card sleeves|Not sure if they ...| 2015-08-31|\n",
            "|         US|   49861762|R11EPG1GHOXMGB|B00BXOGI3A|     688569009|The Original Stan...| Office Products|          4|            0|          0|   N|                N|          Four Stars|Great product for...| 2015-08-31|\n",
            "|         US|    1541556|R2797NKTEX5THN|B0018RHWGE|     513803406|Zebra Sparky-1 WK...| Office Products|          5|            0|          0|   N|                Y|Love these highli...|Love these highli...| 2015-08-31|\n",
            "|         US|   10579374|R2RUTMJS50E4WF|B00IA8H2OG|     201212366|E-Z Ink (TM) Comp...| Office Products|          5|            0|          0|   N|                Y|          Five Stars|Received on time,...| 2015-08-31|\n",
            "|         US|   43622307|R1FZYL1HX7O4RM|B007TOIA66|     954138793|Eric 11\" Giant Si...| Office Products|          1|            0|          0|   N|                Y|            One Star|worked about a mo...| 2015-08-31|\n",
            "|         US|   50773856|R22ENT0KU5CHPX|B00EANURCE|      43216076|Brother MFCJ450 W...| Office Products|          5|            0|          0|   N|                Y|Brothers Wireless...|I purchased this ...| 2015-08-31|\n",
            "|         US|   10165223|R2E5M7FWJC9JLE|B00T3Q0EOO|     637096152|Clarity D613 DECT...| Office Products|          5|            0|          0|   N|                Y|          Five Stars|Everything works ...| 2015-08-31|\n",
            "|         US|   14744748|R31BNW3O2Q5J3E|B00WN0N818|     710040412|Permo 50 Feet Whi...| Office Products|          5|            0|          0|   N|                Y|          Five Stars|          Thank you!| 2015-08-31|\n",
            "|         US|   37536631|R1JMQF1OOMNF49|B001GAOTSW|     696023182|Pilot G2 Retracta...| Office Products|          5|            0|          0|   N|                Y|          Five Stars|     Love these pens| 2015-08-31|\n",
            "|         US|     126687| RJH6WQDOA6CZP|B003BNY7PW|     474277918|AT&T DECT 6.0 Acc...| Office Products|          5|            0|          0|   N|                Y|          Five Stars|The product is ev...| 2015-08-31|\n",
            "|         US|   31130095|R2EVL0Z5JVV86X|B00092RJX0|     887474295|Pilot G2 Retracta...| Office Products|          5|            0|          0|   N|                Y|          Five Stars|           Great buy| 2015-08-31|\n",
            "+-----------+-----------+--------------+----------+--------------+--------------------+----------------+-----------+-------------+-----------+----+-----------------+--------------------+--------------------+-----------+\n",
            "only showing top 20 rows\n",
            "\n"
          ],
          "name": "stdout"
        }
      ]
    },
    {
      "cell_type": "code",
      "metadata": {
        "id": "Xhv4gAn__6s4",
        "colab_type": "code",
        "colab": {
          "base_uri": "https://localhost:8080/",
          "height": 35
        },
        "outputId": "96606d44-d3ca-4674-81ee-b2f0c66a18a4"
      },
      "source": [
        "office_df.count()"
      ],
      "execution_count": null,
      "outputs": [
        {
          "output_type": "execute_result",
          "data": {
            "text/plain": [
              "2642195"
            ]
          },
          "metadata": {
            "tags": []
          },
          "execution_count": 9
        }
      ]
    },
    {
      "cell_type": "code",
      "metadata": {
        "id": "z5PQ7pUnCiOR",
        "colab_type": "code",
        "colab": {}
      },
      "source": [
        "Yes_df = office_df.filter(office_df[\"vine\"] == \"Y\")"
      ],
      "execution_count": null,
      "outputs": []
    },
    {
      "cell_type": "code",
      "metadata": {
        "id": "v4L1j6mtCiR3",
        "colab_type": "code",
        "colab": {
          "base_uri": "https://localhost:8080/",
          "height": 499
        },
        "outputId": "0d30b55b-3e6c-4a11-e462-d5d745ad0892"
      },
      "source": [
        "Yes_df.show()"
      ],
      "execution_count": null,
      "outputs": [
        {
          "output_type": "stream",
          "text": [
            "+-----------+-----------+--------------+----------+--------------+--------------------+----------------+-----------+-------------+-----------+----+-----------------+--------------------+--------------------+-----------+\n",
            "|marketplace|customer_id|     review_id|product_id|product_parent|       product_title|product_category|star_rating|helpful_votes|total_votes|vine|verified_purchase|     review_headline|         review_body|review_date|\n",
            "+-----------+-----------+--------------+----------+--------------+--------------------+----------------+-----------+-------------+-----------+----+-----------------+--------------------+--------------------+-----------+\n",
            "|         US|   14220514|R2W2C9AQHPK31R|B00TKU1NHA|      77272979|Westcott iPoint O...| Office Products|          5|            0|          0|   Y|                N|Kid proof, or as ...|It seems electric...| 2015-08-31|\n",
            "|         US|   53093124|R2DCXYKMNALS1O|B00UV41MAC|      85017495|V-LIGHT LED Energ...| Office Products|          5|            0|          0|   Y|                N|... V-Light LED E...|The V-Light LED E...| 2015-08-31|\n",
            "|         US|   43079307|R21PW28B6AN7UZ|B00X5G8XW8|     646830004|Elmer's Freestyle...| Office Products|          3|            0|          0|   Y|                N|              Useful|I use this light ...| 2015-08-31|\n",
            "|         US|   46278244|R1R8X057QIPR5V|B00W7S6B6U|     892837487|Boxa HOPPER Elega...| Office Products|          4|            0|          0|   Y|                N|Not exciting, but...|This is a review ...| 2015-08-31|\n",
            "|         US|   52856050|R1D7JY5YFX00HB|B00X5G8WW4|     338829902|Elmer's Freestyle...| Office Products|          3|            0|          0|   Y|                N|Doesn't work that...|Elmer’s is a trus...| 2015-08-31|\n",
            "|         US|   50579471|R3PDI31PQBXTDU|B00UV41X4W|      42258955|V-LIGHT Adjustabl...| Office Products|          4|            4|          4|   Y|                N|             Sturdy!|I really like thi...| 2015-08-31|\n",
            "|         US|   48428870|R37L9A17GLWPX0|B00006IBUU|      12471266|Avery White 4-1/4...| Office Products|          5|            0|          0|   Y|                N|Perfect for makin...|I was really plea...| 2015-08-31|\n",
            "|         US|   17217532|R2G606CFV6UZ7H|B00X5GC16M|     467158061|Avery Ultralast B...| Office Products|          5|            0|          0|   Y|                N|Love these for at...|Whether or not yo...| 2015-08-31|\n",
            "|         US|   53091377| RY34TTQB2H0HY|B00XOJ9SIE|     522145100|Avery Easy Align ...| Office Products|          5|            0|          0|   Y|                N|Actual, self-lami...|These are much mo...| 2015-08-31|\n",
            "|         US|   48156368| RI4OCYS72NGNH|B00X7NS2LG|      17229318|Five Star 3 Subje...| Office Products|          4|            0|          0|   Y|                N|Five Star Vertica...|I don’t know that...| 2015-08-31|\n",
            "|         US|   37851138|R2W990J61HSHK0|B00ZI7MI96|     592756103|Scotch Thermal La...| Office Products|          4|            2|          3|   Y|                N|For occasional la...|For a low-budget ...| 2015-08-31|\n",
            "|         US|   21954496| R204X9WND9ULH|B00X5GC16M|     467158061|Avery Ultralast B...| Office Products|          4|            0|          0|   Y|                N|Quality is also g...|I had the chance ...| 2015-08-31|\n",
            "|         US|   50461455| RTXHLAL306IG3|B00TKU1NHA|      77272979|Westcott iPoint O...| Office Products|          2|            0|          0|   Y|                N|Eletric pencil sh...|Amazon sent me tw...| 2015-08-31|\n",
            "|         US|   48428870|R2T96MYYJQKHR9|B00WUSX6WY|     606896714|Studio Ink Assort...| Office Products|          3|            0|          1|   Y|                N|The cards are oka...|When I buy someth...| 2015-08-31|\n",
            "|         US|   48428870| RGHBW75HLART2|B00UIYVHP0|     337362339|Avery White Inter...| Office Products|          5|            0|          0|   Y|                N|Perfect for use i...|I don't actually ...| 2015-08-31|\n",
            "|         US|   20789642| RSJ7MZBG3LCP4|B00X7NQJY8|     334181731|Five Star Locker ...| Office Products|          5|            0|          0|   Y|                N|  Daughter Loves It!|This product prob...| 2015-08-31|\n",
            "|         US|   50046574|R2QOTENY42BHC9|B00X5G94G2|     886576536|Elmer's Freestyle...| Office Products|          2|            0|          0|   Y|                N|  Didn't work for me|I tried attaching...| 2015-08-31|\n",
            "|         US|   48428870|R2PILUPMXLW2M4|B00X7X25K0|     411034225|Five Star Advance...| Office Products|          5|            0|          0|   Y|                N|Great for persona...|I haven't had a s...| 2015-08-31|\n",
            "|         US|   27225859|R35DB614K9WY4J|B00X7NRC58|     601235574|Five Star Extra T...| Office Products|          5|            0|          0|   Y|                N|Stands tall on it...|Excellent product...| 2015-08-31|\n",
            "|         US|   34571698|R2QNDD2TN1L4K5|B00X7NS2LG|      17229318|Five Star 3 Subje...| Office Products|          1|            0|          0|   Y|                N|Quite possibly th...|Although this pro...| 2015-08-31|\n",
            "+-----------+-----------+--------------+----------+--------------+--------------------+----------------+-----------+-------------+-----------+----+-----------------+--------------------+--------------------+-----------+\n",
            "only showing top 20 rows\n",
            "\n"
          ],
          "name": "stdout"
        }
      ]
    },
    {
      "cell_type": "code",
      "metadata": {
        "id": "Jk9YmWIdCiMi",
        "colab_type": "code",
        "colab": {
          "base_uri": "https://localhost:8080/",
          "height": 35
        },
        "outputId": "e0ae72dc-5147-4808-e1f7-737667d390ef"
      },
      "source": [
        "Yes_df.count()"
      ],
      "execution_count": null,
      "outputs": [
        {
          "output_type": "execute_result",
          "data": {
            "text/plain": [
              "29186"
            ]
          },
          "metadata": {
            "tags": []
          },
          "execution_count": 12
        }
      ]
    },
    {
      "cell_type": "code",
      "metadata": {
        "id": "dCSKMmjwCiKn",
        "colab_type": "code",
        "colab": {}
      },
      "source": [
        "No_df = office_df.filter(office_df[\"vine\"] ==\"N\")"
      ],
      "execution_count": null,
      "outputs": []
    },
    {
      "cell_type": "code",
      "metadata": {
        "id": "oxe6MWQgCiDg",
        "colab_type": "code",
        "colab": {
          "base_uri": "https://localhost:8080/",
          "height": 499
        },
        "outputId": "eada6161-ca03-4e8d-ad39-689b26dc319d"
      },
      "source": [
        "No_df.show()"
      ],
      "execution_count": null,
      "outputs": [
        {
          "output_type": "stream",
          "text": [
            "+-----------+-----------+--------------+----------+--------------+--------------------+----------------+-----------+-------------+-----------+----+-----------------+--------------------+--------------------+-----------+\n",
            "|marketplace|customer_id|     review_id|product_id|product_parent|       product_title|product_category|star_rating|helpful_votes|total_votes|vine|verified_purchase|     review_headline|         review_body|review_date|\n",
            "+-----------+-----------+--------------+----------+--------------+--------------------+----------------+-----------+-------------+-----------+----+-----------------+--------------------+--------------------+-----------+\n",
            "|         US|   43081963|R18RVCKGH1SSI9|B001BM2MAC|     307809868|Scotch Cushion Wr...| Office Products|          5|            0|          0|   N|                Y|          Five Stars|      Great product.| 2015-08-31|\n",
            "|         US|   10951564|R3L4L6LW1PUOFY|B00DZYEXPQ|      75004341|Dust-Off Compress...| Office Products|          5|            0|          1|   N|                Y|Phffffffft, Phfff...|What's to say abo...| 2015-08-31|\n",
            "|         US|   21143145|R2J8AWXWTDX2TF|B00RTMUHDW|     529689027|Amram Tagger Stan...| Office Products|          5|            0|          0|   N|                Y|but I am sure I w...|Haven't used yet,...| 2015-08-31|\n",
            "|         US|   52782374|R1PR37BR7G3M6A|B00D7H8XB6|     868449945|AmazonBasics 12-S...| Office Products|          1|            2|          3|   N|                Y|and the shredder ...|Although this was...| 2015-08-31|\n",
            "|         US|   24045652|R3BDDDZMZBZDPU|B001XCWP34|      33521401|Derwent Colored P...| Office Products|          4|            0|          0|   N|                Y|          Four Stars|Gorgeous colors a...| 2015-08-31|\n",
            "|         US|   21751234| R8T6MO75ND212|B004J2NBCO|     214932869|Quartet Magnetic ...| Office Products|          5|            0|          0|   N|                Y|          Five Stars|Perfect for plann...| 2015-08-31|\n",
            "|         US|    9109358|R2YWMQT2V11XYZ|B00MOPAG8K|     863351797|KITLEX40X2592UNV2...| Office Products|          5|            0|          0|   N|                N|          Five Stars|Gold plated fuser...| 2015-08-31|\n",
            "|         US|    9967215|R1V2HYL6OI9V39|B003AHIK7U|     383470576|Bible Dry Highlig...| Office Products|          5|            6|          6|   N|                Y|Won't bleed throu...|I have used these...| 2015-08-31|\n",
            "|         US|   11234247|R3BLQBKUNXGFS4|B006TKH2RO|     999128878|Parker Ingenuity ...| Office Products|          5|            0|          0|   N|                Y|           Nice pen!|Heavy pen that wr...| 2015-08-31|\n",
            "|         US|   12731488|R17MOWJCAR9Y8Q|B00W61M9K0|     622066861| RFID Card Protector| Office Products|          5|            0|          0|   N|                Y| Credit card sleeves|Not sure if they ...| 2015-08-31|\n",
            "|         US|   49861762|R11EPG1GHOXMGB|B00BXOGI3A|     688569009|The Original Stan...| Office Products|          4|            0|          0|   N|                N|          Four Stars|Great product for...| 2015-08-31|\n",
            "|         US|    1541556|R2797NKTEX5THN|B0018RHWGE|     513803406|Zebra Sparky-1 WK...| Office Products|          5|            0|          0|   N|                Y|Love these highli...|Love these highli...| 2015-08-31|\n",
            "|         US|   10579374|R2RUTMJS50E4WF|B00IA8H2OG|     201212366|E-Z Ink (TM) Comp...| Office Products|          5|            0|          0|   N|                Y|          Five Stars|Received on time,...| 2015-08-31|\n",
            "|         US|   43622307|R1FZYL1HX7O4RM|B007TOIA66|     954138793|Eric 11\" Giant Si...| Office Products|          1|            0|          0|   N|                Y|            One Star|worked about a mo...| 2015-08-31|\n",
            "|         US|   50773856|R22ENT0KU5CHPX|B00EANURCE|      43216076|Brother MFCJ450 W...| Office Products|          5|            0|          0|   N|                Y|Brothers Wireless...|I purchased this ...| 2015-08-31|\n",
            "|         US|   10165223|R2E5M7FWJC9JLE|B00T3Q0EOO|     637096152|Clarity D613 DECT...| Office Products|          5|            0|          0|   N|                Y|          Five Stars|Everything works ...| 2015-08-31|\n",
            "|         US|   14744748|R31BNW3O2Q5J3E|B00WN0N818|     710040412|Permo 50 Feet Whi...| Office Products|          5|            0|          0|   N|                Y|          Five Stars|          Thank you!| 2015-08-31|\n",
            "|         US|   37536631|R1JMQF1OOMNF49|B001GAOTSW|     696023182|Pilot G2 Retracta...| Office Products|          5|            0|          0|   N|                Y|          Five Stars|     Love these pens| 2015-08-31|\n",
            "|         US|     126687| RJH6WQDOA6CZP|B003BNY7PW|     474277918|AT&T DECT 6.0 Acc...| Office Products|          5|            0|          0|   N|                Y|          Five Stars|The product is ev...| 2015-08-31|\n",
            "|         US|   31130095|R2EVL0Z5JVV86X|B00092RJX0|     887474295|Pilot G2 Retracta...| Office Products|          5|            0|          0|   N|                Y|          Five Stars|           Great buy| 2015-08-31|\n",
            "+-----------+-----------+--------------+----------+--------------+--------------------+----------------+-----------+-------------+-----------+----+-----------------+--------------------+--------------------+-----------+\n",
            "only showing top 20 rows\n",
            "\n"
          ],
          "name": "stdout"
        }
      ]
    },
    {
      "cell_type": "code",
      "metadata": {
        "id": "-tPsGV4xCiAw",
        "colab_type": "code",
        "colab": {
          "base_uri": "https://localhost:8080/",
          "height": 35
        },
        "outputId": "3952af0b-6fe7-402c-c76e-f2f2e6f53833"
      },
      "source": [
        "No_df.count()"
      ],
      "execution_count": null,
      "outputs": [
        {
          "output_type": "execute_result",
          "data": {
            "text/plain": [
              "2613009"
            ]
          },
          "metadata": {
            "tags": []
          },
          "execution_count": 15
        }
      ]
    },
    {
      "cell_type": "code",
      "metadata": {
        "id": "cYbMouXE_6mJ",
        "colab_type": "code",
        "colab": {}
      },
      "source": [
        "marketplace_df = office_df.filter(office_df[\"marketplace\"] == \"US\")"
      ],
      "execution_count": null,
      "outputs": []
    },
    {
      "cell_type": "code",
      "metadata": {
        "id": "8ZETHkfuaabd",
        "colab_type": "code",
        "colab": {
          "base_uri": "https://localhost:8080/",
          "height": 35
        },
        "outputId": "f1ad56de-3157-4cbc-b7ad-f7472606dc30"
      },
      "source": [
        "marketplace_df.count()"
      ],
      "execution_count": null,
      "outputs": [
        {
          "output_type": "execute_result",
          "data": {
            "text/plain": [
              "2642195"
            ]
          },
          "metadata": {
            "tags": []
          },
          "execution_count": 17
        }
      ]
    },
    {
      "cell_type": "code",
      "metadata": {
        "id": "8SP01FvmaanZ",
        "colab_type": "code",
        "colab": {
          "base_uri": "https://localhost:8080/",
          "height": 479
        },
        "outputId": "3647d061-c2bb-440b-ad41-5cb9df7f825d"
      },
      "source": [
        "filtered1_df = df.select(\"customer_id\", \"product_parent\", \"product_title\", \"star_rating\", \"helpful_votes\", \"total_votes\", \"vine\", \"verified_purchase\", \"review_headline\", \"review_body\", \"review_date\").show()"
      ],
      "execution_count": null,
      "outputs": [
        {
          "output_type": "stream",
          "text": [
            "+-----------+--------------+--------------------+-----------+-------------+-----------+----+-----------------+--------------------+--------------------+-----------+\n",
            "|customer_id|product_parent|       product_title|star_rating|helpful_votes|total_votes|vine|verified_purchase|     review_headline|         review_body|review_date|\n",
            "+-----------+--------------+--------------------+-----------+-------------+-----------+----+-----------------+--------------------+--------------------+-----------+\n",
            "|   43081963|     307809868|Scotch Cushion Wr...|          5|            0|          0|   N|                Y|          Five Stars|      Great product.| 2015-08-31|\n",
            "|   10951564|      75004341|Dust-Off Compress...|          5|            0|          1|   N|                Y|Phffffffft, Phfff...|What's to say abo...| 2015-08-31|\n",
            "|   21143145|     529689027|Amram Tagger Stan...|          5|            0|          0|   N|                Y|but I am sure I w...|Haven't used yet,...| 2015-08-31|\n",
            "|   52782374|     868449945|AmazonBasics 12-S...|          1|            2|          3|   N|                Y|and the shredder ...|Although this was...| 2015-08-31|\n",
            "|   24045652|      33521401|Derwent Colored P...|          4|            0|          0|   N|                Y|          Four Stars|Gorgeous colors a...| 2015-08-31|\n",
            "|   21751234|     214932869|Quartet Magnetic ...|          5|            0|          0|   N|                Y|          Five Stars|Perfect for plann...| 2015-08-31|\n",
            "|    9109358|     863351797|KITLEX40X2592UNV2...|          5|            0|          0|   N|                N|          Five Stars|Gold plated fuser...| 2015-08-31|\n",
            "|    9967215|     383470576|Bible Dry Highlig...|          5|            6|          6|   N|                Y|Won't bleed throu...|I have used these...| 2015-08-31|\n",
            "|   11234247|     999128878|Parker Ingenuity ...|          5|            0|          0|   N|                Y|           Nice pen!|Heavy pen that wr...| 2015-08-31|\n",
            "|   12731488|     622066861| RFID Card Protector|          5|            0|          0|   N|                Y| Credit card sleeves|Not sure if they ...| 2015-08-31|\n",
            "|   49861762|     688569009|The Original Stan...|          4|            0|          0|   N|                N|          Four Stars|Great product for...| 2015-08-31|\n",
            "|    1541556|     513803406|Zebra Sparky-1 WK...|          5|            0|          0|   N|                Y|Love these highli...|Love these highli...| 2015-08-31|\n",
            "|   10579374|     201212366|E-Z Ink (TM) Comp...|          5|            0|          0|   N|                Y|          Five Stars|Received on time,...| 2015-08-31|\n",
            "|   43622307|     954138793|Eric 11\" Giant Si...|          1|            0|          0|   N|                Y|            One Star|worked about a mo...| 2015-08-31|\n",
            "|   50773856|      43216076|Brother MFCJ450 W...|          5|            0|          0|   N|                Y|Brothers Wireless...|I purchased this ...| 2015-08-31|\n",
            "|   10165223|     637096152|Clarity D613 DECT...|          5|            0|          0|   N|                Y|          Five Stars|Everything works ...| 2015-08-31|\n",
            "|   14744748|     710040412|Permo 50 Feet Whi...|          5|            0|          0|   N|                Y|          Five Stars|          Thank you!| 2015-08-31|\n",
            "|   37536631|     696023182|Pilot G2 Retracta...|          5|            0|          0|   N|                Y|          Five Stars|     Love these pens| 2015-08-31|\n",
            "|     126687|     474277918|AT&T DECT 6.0 Acc...|          5|            0|          0|   N|                Y|          Five Stars|The product is ev...| 2015-08-31|\n",
            "|   31130095|     887474295|Pilot G2 Retracta...|          5|            0|          0|   N|                Y|          Five Stars|           Great buy| 2015-08-31|\n",
            "+-----------+--------------+--------------------+-----------+-------------+-----------+----+-----------------+--------------------+--------------------+-----------+\n",
            "only showing top 20 rows\n",
            "\n"
          ],
          "name": "stdout"
        }
      ]
    },
    {
      "cell_type": "code",
      "metadata": {
        "id": "b-Ml_CPaaamG",
        "colab_type": "code",
        "colab": {}
      },
      "source": [
        "review_date_df = office_df.filter(office_df[\"review_date\"] == \"2015-08-31\")"
      ],
      "execution_count": null,
      "outputs": []
    },
    {
      "cell_type": "code",
      "metadata": {
        "id": "4g92uIA4aajr",
        "colab_type": "code",
        "colab": {
          "base_uri": "https://localhost:8080/",
          "height": 35
        },
        "outputId": "5d36b58c-3ea6-4aca-dbe8-41dd381ed62d"
      },
      "source": [
        "review_date_df.count()"
      ],
      "execution_count": null,
      "outputs": [
        {
          "output_type": "execute_result",
          "data": {
            "text/plain": [
              "4157"
            ]
          },
          "metadata": {
            "tags": []
          },
          "execution_count": 20
        }
      ]
    },
    {
      "cell_type": "code",
      "metadata": {
        "id": "O67LdV1PaagS",
        "colab_type": "code",
        "colab": {}
      },
      "source": [
        "#From the date value of 2015-08-31 has 4,157 rows in our 2,642,195 row data frame. This shows our review_date columns holds multiple dates and has no substantical value in our analysis\n"
      ],
      "execution_count": null,
      "outputs": []
    },
    {
      "cell_type": "code",
      "metadata": {
        "id": "YVMl3BJFeh1E",
        "colab_type": "code",
        "colab": {}
      },
      "source": [
        "filtered2_df = df.select(\"customer_id\", \"product_parent\", \"product_title\", \"vine\", \"review_headline\", \"review_body\")"
      ],
      "execution_count": null,
      "outputs": []
    },
    {
      "cell_type": "code",
      "metadata": {
        "id": "-xN7lUSMeiC1",
        "colab_type": "code",
        "colab": {}
      },
      "source": [
        "filtered2_Y_df = filtered2_df.filter(filtered2_df[\"vine\"] == \"Y\")"
      ],
      "execution_count": null,
      "outputs": []
    },
    {
      "cell_type": "code",
      "metadata": {
        "id": "lAaUo9aWeiIC",
        "colab_type": "code",
        "colab": {
          "base_uri": "https://localhost:8080/",
          "height": 479
        },
        "outputId": "d1929ba7-aaf2-43ac-cb4e-2d36b8a98803"
      },
      "source": [
        "filtered2_Y_df.show()"
      ],
      "execution_count": null,
      "outputs": [
        {
          "output_type": "stream",
          "text": [
            "+-----------+--------------+--------------------+----+--------------------+--------------------+\n",
            "|customer_id|product_parent|       product_title|vine|     review_headline|         review_body|\n",
            "+-----------+--------------+--------------------+----+--------------------+--------------------+\n",
            "|   14220514|      77272979|Westcott iPoint O...|   Y|Kid proof, or as ...|It seems electric...|\n",
            "|   53093124|      85017495|V-LIGHT LED Energ...|   Y|... V-Light LED E...|The V-Light LED E...|\n",
            "|   43079307|     646830004|Elmer's Freestyle...|   Y|              Useful|I use this light ...|\n",
            "|   46278244|     892837487|Boxa HOPPER Elega...|   Y|Not exciting, but...|This is a review ...|\n",
            "|   52856050|     338829902|Elmer's Freestyle...|   Y|Doesn't work that...|Elmer’s is a trus...|\n",
            "|   50579471|      42258955|V-LIGHT Adjustabl...|   Y|             Sturdy!|I really like thi...|\n",
            "|   48428870|      12471266|Avery White 4-1/4...|   Y|Perfect for makin...|I was really plea...|\n",
            "|   17217532|     467158061|Avery Ultralast B...|   Y|Love these for at...|Whether or not yo...|\n",
            "|   53091377|     522145100|Avery Easy Align ...|   Y|Actual, self-lami...|These are much mo...|\n",
            "|   48156368|      17229318|Five Star 3 Subje...|   Y|Five Star Vertica...|I don’t know that...|\n",
            "|   37851138|     592756103|Scotch Thermal La...|   Y|For occasional la...|For a low-budget ...|\n",
            "|   21954496|     467158061|Avery Ultralast B...|   Y|Quality is also g...|I had the chance ...|\n",
            "|   50461455|      77272979|Westcott iPoint O...|   Y|Eletric pencil sh...|Amazon sent me tw...|\n",
            "|   48428870|     606896714|Studio Ink Assort...|   Y|The cards are oka...|When I buy someth...|\n",
            "|   48428870|     337362339|Avery White Inter...|   Y|Perfect for use i...|I don't actually ...|\n",
            "|   20789642|     334181731|Five Star Locker ...|   Y|  Daughter Loves It!|This product prob...|\n",
            "|   50046574|     886576536|Elmer's Freestyle...|   Y|  Didn't work for me|I tried attaching...|\n",
            "|   48428870|     411034225|Five Star Advance...|   Y|Great for persona...|I haven't had a s...|\n",
            "|   27225859|     601235574|Five Star Extra T...|   Y|Stands tall on it...|Excellent product...|\n",
            "|   34571698|      17229318|Five Star 3 Subje...|   Y|Quite possibly th...|Although this pro...|\n",
            "+-----------+--------------+--------------------+----+--------------------+--------------------+\n",
            "only showing top 20 rows\n",
            "\n"
          ],
          "name": "stdout"
        }
      ]
    },
    {
      "cell_type": "code",
      "metadata": {
        "id": "dPqCUHdueiB_",
        "colab_type": "code",
        "colab": {}
      },
      "source": [
        "#we are doen to 6 columns from our original 15. The vine column is our primary tool for analysis, we have 5 columns left to review. We can tokenize 3 out of the five columns."
      ],
      "execution_count": null,
      "outputs": []
    },
    {
      "cell_type": "code",
      "metadata": {
        "id": "Ko0lvjuOeh_9",
        "colab_type": "code",
        "colab": {}
      },
      "source": [
        "product_title_df = df.select(\"product_title\", \"vine\")"
      ],
      "execution_count": null,
      "outputs": []
    },
    {
      "cell_type": "code",
      "metadata": {
        "id": "PlUCWq1Aeh9B",
        "colab_type": "code",
        "colab": {}
      },
      "source": [
        "product_title_Yes_df = product_title_df.filter(product_title_df[\"vine\"] == \"Y\")"
      ],
      "execution_count": null,
      "outputs": []
    },
    {
      "cell_type": "code",
      "metadata": {
        "id": "V9MxE-3Oeh58",
        "colab_type": "code",
        "colab": {
          "base_uri": "https://localhost:8080/",
          "height": 479
        },
        "outputId": "c9274046-68f3-43b7-978a-2f95848210b7"
      },
      "source": [
        "product_title_Yes_df.show()"
      ],
      "execution_count": null,
      "outputs": [
        {
          "output_type": "stream",
          "text": [
            "+--------------------+----+\n",
            "|       product_title|vine|\n",
            "+--------------------+----+\n",
            "|Westcott iPoint O...|   Y|\n",
            "|V-LIGHT LED Energ...|   Y|\n",
            "|Elmer's Freestyle...|   Y|\n",
            "|Boxa HOPPER Elega...|   Y|\n",
            "|Elmer's Freestyle...|   Y|\n",
            "|V-LIGHT Adjustabl...|   Y|\n",
            "|Avery White 4-1/4...|   Y|\n",
            "|Avery Ultralast B...|   Y|\n",
            "|Avery Easy Align ...|   Y|\n",
            "|Five Star 3 Subje...|   Y|\n",
            "|Scotch Thermal La...|   Y|\n",
            "|Avery Ultralast B...|   Y|\n",
            "|Westcott iPoint O...|   Y|\n",
            "|Studio Ink Assort...|   Y|\n",
            "|Avery White Inter...|   Y|\n",
            "|Five Star Locker ...|   Y|\n",
            "|Elmer's Freestyle...|   Y|\n",
            "|Five Star Advance...|   Y|\n",
            "|Five Star Extra T...|   Y|\n",
            "|Five Star 3 Subje...|   Y|\n",
            "+--------------------+----+\n",
            "only showing top 20 rows\n",
            "\n"
          ],
          "name": "stdout"
        }
      ]
    },
    {
      "cell_type": "code",
      "metadata": {
        "id": "GE_STHLWfL82",
        "colab_type": "code",
        "colab": {}
      },
      "source": [
        "review_headline_df = df.select(\"review_headline\", \"vine\")"
      ],
      "execution_count": null,
      "outputs": []
    },
    {
      "cell_type": "code",
      "metadata": {
        "id": "bWg6KGKFfMJv",
        "colab_type": "code",
        "colab": {}
      },
      "source": [
        "review_headline_Yes_df = review_headline_df.filter(review_headline_df[\"vine\"] == \"Y\")"
      ],
      "execution_count": null,
      "outputs": []
    },
    {
      "cell_type": "code",
      "metadata": {
        "id": "wS2hKQ3VfMHa",
        "colab_type": "code",
        "colab": {
          "base_uri": "https://localhost:8080/",
          "height": 479
        },
        "outputId": "169a6549-ad39-40df-9ff3-7ebf57dd6086"
      },
      "source": [
        "review_headline_Yes_df.show()"
      ],
      "execution_count": null,
      "outputs": [
        {
          "output_type": "stream",
          "text": [
            "+--------------------+----+\n",
            "|     review_headline|vine|\n",
            "+--------------------+----+\n",
            "|Kid proof, or as ...|   Y|\n",
            "|... V-Light LED E...|   Y|\n",
            "|              Useful|   Y|\n",
            "|Not exciting, but...|   Y|\n",
            "|Doesn't work that...|   Y|\n",
            "|             Sturdy!|   Y|\n",
            "|Perfect for makin...|   Y|\n",
            "|Love these for at...|   Y|\n",
            "|Actual, self-lami...|   Y|\n",
            "|Five Star Vertica...|   Y|\n",
            "|For occasional la...|   Y|\n",
            "|Quality is also g...|   Y|\n",
            "|Eletric pencil sh...|   Y|\n",
            "|The cards are oka...|   Y|\n",
            "|Perfect for use i...|   Y|\n",
            "|  Daughter Loves It!|   Y|\n",
            "|  Didn't work for me|   Y|\n",
            "|Great for persona...|   Y|\n",
            "|Stands tall on it...|   Y|\n",
            "|Quite possibly th...|   Y|\n",
            "+--------------------+----+\n",
            "only showing top 20 rows\n",
            "\n"
          ],
          "name": "stdout"
        }
      ]
    },
    {
      "cell_type": "code",
      "metadata": {
        "id": "HNDHygPqfME9",
        "colab_type": "code",
        "colab": {}
      },
      "source": [
        "review_body_df = df.select(\"review_body\", \"vine\")"
      ],
      "execution_count": null,
      "outputs": []
    },
    {
      "cell_type": "code",
      "metadata": {
        "id": "oi2mH2-lfMA7",
        "colab_type": "code",
        "colab": {}
      },
      "source": [
        "review_body_Yes_df = review_body_df.filter(review_body_df[\"vine\"] == \"Y\")"
      ],
      "execution_count": null,
      "outputs": []
    },
    {
      "cell_type": "code",
      "metadata": {
        "id": "lxnZ2wpDfL6U",
        "colab_type": "code",
        "colab": {
          "base_uri": "https://localhost:8080/",
          "height": 479
        },
        "outputId": "04e6be9e-ee8b-427c-a202-3fb36cc4662b"
      },
      "source": [
        "review_body_Yes_df.show()"
      ],
      "execution_count": null,
      "outputs": [
        {
          "output_type": "stream",
          "text": [
            "+--------------------+----+\n",
            "|         review_body|vine|\n",
            "+--------------------+----+\n",
            "|It seems electric...|   Y|\n",
            "|The V-Light LED E...|   Y|\n",
            "|I use this light ...|   Y|\n",
            "|This is a review ...|   Y|\n",
            "|Elmer’s is a trus...|   Y|\n",
            "|I really like thi...|   Y|\n",
            "|I was really plea...|   Y|\n",
            "|Whether or not yo...|   Y|\n",
            "|These are much mo...|   Y|\n",
            "|I don’t know that...|   Y|\n",
            "|For a low-budget ...|   Y|\n",
            "|I had the chance ...|   Y|\n",
            "|Amazon sent me tw...|   Y|\n",
            "|When I buy someth...|   Y|\n",
            "|I don't actually ...|   Y|\n",
            "|This product prob...|   Y|\n",
            "|I tried attaching...|   Y|\n",
            "|I haven't had a s...|   Y|\n",
            "|Excellent product...|   Y|\n",
            "|Although this pro...|   Y|\n",
            "+--------------------+----+\n",
            "only showing top 20 rows\n",
            "\n"
          ],
          "name": "stdout"
        }
      ]
    },
    {
      "cell_type": "code",
      "metadata": {
        "id": "TX5NKl-mfaxd",
        "colab_type": "code",
        "colab": {}
      },
      "source": [
        "# Import the Tokenizer library.\n",
        "from pyspark.ml.feature import Tokenizer"
      ],
      "execution_count": null,
      "outputs": []
    },
    {
      "cell_type": "code",
      "metadata": {
        "id": "PCiP1GTpfa-z",
        "colab_type": "code",
        "colab": {}
      },
      "source": [
        "# Create a function to return the length of a list\n",
        "def word_list_length(word_list):\n",
        "\treturn len(word_list)"
      ],
      "execution_count": null,
      "outputs": []
    },
    {
      "cell_type": "code",
      "metadata": {
        "id": "SiY50fFIfbIf",
        "colab_type": "code",
        "colab": {}
      },
      "source": [
        "\n",
        "from pyspark.sql.functions import col, udf\n",
        "from pyspark.sql.types import IntegerType"
      ],
      "execution_count": null,
      "outputs": []
    },
    {
      "cell_type": "code",
      "metadata": {
        "id": "fQV0y3UJfbXV",
        "colab_type": "code",
        "colab": {}
      },
      "source": [
        "\n",
        "# Create a user defined function\n",
        "count_tokens = udf(word_list_length, IntegerType())"
      ],
      "execution_count": null,
      "outputs": []
    },
    {
      "cell_type": "code",
      "metadata": {
        "id": "hHiFw6CcfbqT",
        "colab_type": "code",
        "colab": {}
      },
      "source": [
        "# Create our Tokenize sentences\n",
        "tokenizer = Tokenizer(inputCol=\"product_title\", outputCol=\"words\")"
      ],
      "execution_count": null,
      "outputs": []
    },
    {
      "cell_type": "code",
      "metadata": {
        "id": "X8oHzDeDfbns",
        "colab_type": "code",
        "colab": {}
      },
      "source": [
        "# Transform DataFrame\n",
        "product_title_tokenized = tokenizer.transform(product_title_Yes_df)"
      ],
      "execution_count": null,
      "outputs": []
    },
    {
      "cell_type": "code",
      "metadata": {
        "id": "18-maS7tfbly",
        "colab_type": "code",
        "colab": {
          "base_uri": "https://localhost:8080/",
          "height": 499
        },
        "outputId": "c78500ea-ce04-4729-f5c0-5812e0586600"
      },
      "source": [
        "# Select the needed columns and no truncated results\n",
        "product_title_tokenized.withColumn(\"tokens\", count_tokens(col(\"words\"))).show(truncate=False)"
      ],
      "execution_count": null,
      "outputs": [
        {
          "output_type": "stream",
          "text": [
            "+-------------------------------------------------------------------------------------------------------------------------------------------+----+-------------------------------------------------------------------------------------------------------------------------------------------------------------------+------+\n",
            "|product_title                                                                                                                              |vine|words                                                                                                                                                              |tokens|\n",
            "+-------------------------------------------------------------------------------------------------------------------------------------------+----+-------------------------------------------------------------------------------------------------------------------------------------------------------------------+------+\n",
            "|Westcott iPoint Orbit Electric Pencil Sharpener                                                                                            |Y   |[westcott, ipoint, orbit, electric, pencil, sharpener]                                                                                                             |6     |\n",
            "|V-LIGHT LED Energy-Efficient Pyramid Style Desk Lamp with USB Charging Port and 3-Level Touch Dimming Switch                               |Y   |[v-light, led, energy-efficient, pyramid, style, desk, lamp, with, usb, charging, port, and, 3-level, touch, dimming, switch]                                      |16    |\n",
            "|Elmer's Freestyle Repositionable Adhesive Press On LED Light, Black and White Chevron, E6331                                               |Y   |[elmer's, freestyle, repositionable, adhesive, press, on, led, light,, black, and, white, chevron,, e6331]                                                         |13    |\n",
            "|Boxa HOPPER Elegant School Supply Organizer Bin, 3 per Pack (4-HR23-0-BB-03)                                                               |Y   |[boxa, hopper, elegant, school, supply, organizer, bin,, 3, per, pack, (4-hr23-0-bb-03)]                                                                           |11    |\n",
            "|Elmer's Freestyle Stick All Pad, Double-Sided Adhesive for Vertical Storage of Lightweight Items, Reusable and Repositionable, Black, E6328|Y   |[elmer's, freestyle, stick, all, pad,, double-sided, adhesive, for, vertical, storage, of, lightweight, items,, reusable, and, repositionable,, black,, e6328]     |18    |\n",
            "|V-LIGHT Adjustable Desk Task Lamp, Yellow (EN804Y)                                                                                         |Y   |[v-light, adjustable, desk, task, lamp,, yellow, (en804y)]                                                                                                         |7     |\n",
            "|Avery White 4-1/4\" x 5-1/2 Laser Note Cards, 2 Cards/Sheet, 60 Cards & Envelopes/Box (5315)                                                |Y   |[avery, white, 4-1/4\", x, 5-1/2, laser, note, cards,, 2, cards/sheet,, 60, cards, &, envelopes/box, (5315)]                                                        |15    |\n",
            "|Avery Ultralast Big Tab Plastic Dividers, 5 Tabs, 1 Set, Multicolor (24900)                                                                |Y   |[avery, ultralast, big, tab, plastic, dividers,, 5, tabs,, 1, set,, multicolor, (24900)]                                                                           |12    |\n",
            "|Avery Easy Align Self-Laminating ID Labels, Pack of 100 (753)                                                                              |Y   |[avery, easy, align, self-laminating, id, labels,, pack, of, 100, (753)]                                                                                           |10    |\n",
            "|Five Star 3 Subject Notebook, 150 Count                                                                                                    |Y   |[five, star, 3, subject, notebook,, 150, count]                                                                                                                    |7     |\n",
            "|Scotch Thermal Laminator, 2 Roller System, Fast Warm-up, Quick Laminating Speed (TL901C-T)                                                 |Y   |[scotch, thermal, laminator,, 2, roller, system,, fast, warm-up,, quick, laminating, speed, (tl901c-t)]                                                            |12    |\n",
            "|Avery Ultralast Big Tab Plastic Dividers, 5 Tabs, 1 Set, Multicolor (24900)                                                                |Y   |[avery, ultralast, big, tab, plastic, dividers,, 5, tabs,, 1, set,, multicolor, (24900)]                                                                           |12    |\n",
            "|Westcott iPoint Orbit Electric Pencil Sharpener                                                                                            |Y   |[westcott, ipoint, orbit, electric, pencil, sharpener]                                                                                                             |6     |\n",
            "|Studio Ink Assorted Card Pack                                                                                                              |Y   |[studio, ink, assorted, card, pack]                                                                                                                                |5     |\n",
            "|Avery White Internet Shipping Labels                                                                                                       |Y   |[avery, white, internet, shipping, labels]                                                                                                                         |5     |\n",
            "|Five Star Locker Shelf Extender                                                                                                            |Y   |[five, star, locker, shelf, extender]                                                                                                                              |5     |\n",
            "|Elmer's Freestyle Repositionable Micro Suction Technology Catch All Cup, Clear, E6349                                                      |Y   |[elmer's, freestyle, repositionable, micro, suction, technology, catch, all, cup,, clear,, e6349]                                                                  |11    |\n",
            "|Five Star Advance Spiral Notebook-Standard Size, 5 Subject, College Ruled, 8.5 x 11 Inch Sheet Size                                        |Y   |[five, star, advance, spiral, notebook-standard, size,, 5, subject,, college, ruled,, 8.5, x, 11, inch, sheet, size]                                               |16    |\n",
            "|Five Star Extra Tall Locker Shelf and Drawer, Holds 100 lbs., 14 in. Clearance, Fits 12 in. Width Lockers, Locker Accessories, Teal (73363)|Y   |[five, star, extra, tall, locker, shelf, and, drawer,, holds, 100, lbs.,, 14, in., clearance,, fits, 12, in., width, lockers,, locker, accessories,, teal, (73363)]|23    |\n",
            "|Five Star 3 Subject Notebook, 150 Count                                                                                                    |Y   |[five, star, 3, subject, notebook,, 150, count]                                                                                                                    |7     |\n",
            "+-------------------------------------------------------------------------------------------------------------------------------------------+----+-------------------------------------------------------------------------------------------------------------------------------------------------------------------+------+\n",
            "only showing top 20 rows\n",
            "\n"
          ],
          "name": "stdout"
        }
      ]
    },
    {
      "cell_type": "code",
      "metadata": {
        "id": "ojYAFuaNfbjt",
        "colab_type": "code",
        "colab": {}
      },
      "source": [
        "# Create the Tokenized sentences\n",
        "tokenizer = Tokenizer(inputCol=\"review_headline\", outputCol=\"words\")"
      ],
      "execution_count": null,
      "outputs": []
    },
    {
      "cell_type": "code",
      "metadata": {
        "id": "faNtvomsfbgR",
        "colab_type": "code",
        "colab": {}
      },
      "source": [
        "# Transform DataFrame\n",
        "review_headline_tokenized = tokenizer.transform(review_headline_Yes_df)"
      ],
      "execution_count": null,
      "outputs": []
    },
    {
      "cell_type": "code",
      "metadata": {
        "id": "cz4edozCfbdN",
        "colab_type": "code",
        "colab": {
          "base_uri": "https://localhost:8080/",
          "height": 499
        },
        "outputId": "b4f5341a-34db-4c3a-f4a7-e7c6e0992d42"
      },
      "source": [
        "# Select the needed columns and don't truncate results\n",
        "review_headline_tokenized.withColumn(\"tokens\", count_tokens(col(\"words\"))).show(truncate=False)"
      ],
      "execution_count": null,
      "outputs": [
        {
          "output_type": "stream",
          "text": [
            "+----------------------------------------------------------------------------------------------+----+---------------------------------------------------------------------------------------------------------------+------+\n",
            "|review_headline                                                                               |vine|words                                                                                                          |tokens|\n",
            "+----------------------------------------------------------------------------------------------+----+---------------------------------------------------------------------------------------------------------------+------+\n",
            "|Kid proof, or as close as it gets.                                                            |Y   |[kid, proof,, or, as, close, as, it, gets.]                                                                    |8     |\n",
            "|... V-Light LED Energy Efficient Pyramid Style Lamp is the perfect size for my small secretary|Y   |[..., v-light, led, energy, efficient, pyramid, style, lamp, is, the, perfect, size, for, my, small, secretary]|16    |\n",
            "|Useful                                                                                        |Y   |[useful]                                                                                                       |1     |\n",
            "|Not exciting, but nothing bad either                                                          |Y   |[not, exciting,, but, nothing, bad, either]                                                                    |6     |\n",
            "|Doesn't work that great, and a bit expensive.                                                 |Y   |[doesn't, work, that, great,, and, a, bit, expensive.]                                                         |8     |\n",
            "|Sturdy!                                                                                       |Y   |[sturdy!]                                                                                                      |1     |\n",
            "|Perfect for making my own birthday cards and thank you notes                                  |Y   |[perfect, for, making, my, own, birthday, cards, and, thank, you, notes]                                       |11    |\n",
            "|Love these for at-a-glance viewing of materials                                               |Y   |[love, these, for, at-a-glance, viewing, of, materials]                                                        |7     |\n",
            "|Actual, self-laminating labels  Cool product.                                                 |Y   |[actual,, self-laminating, labels, , cool, product.]                                                           |6     |\n",
            "|Five Star Vertical Flip Zipper Binder                                                         |Y   |[five, star, vertical, flip, zipper, binder]                                                                   |6     |\n",
            "|For occasional laminating                                                                     |Y   |[for, occasional, laminating]                                                                                  |3     |\n",
            "|Quality is also good, I would say these are worth trying out ...                              |Y   |[quality, is, also, good,, i, would, say, these, are, worth, trying, out, ...]                                 |13    |\n",
            "|Eletric pencil sharpener                                                                      |Y   |[eletric, pencil, sharpener]                                                                                   |3     |\n",
            "|The cards are okay but not the quality I expect from a Hallmark owned company                 |Y   |[the, cards, are, okay, but, not, the, quality, i, expect, from, a, hallmark, owned, company]                  |15    |\n",
            "|Perfect for use in cataloging contents of boxes                                               |Y   |[perfect, for, use, in, cataloging, contents, of, boxes]                                                       |8     |\n",
            "|Daughter Loves It!                                                                            |Y   |[daughter, loves, it!]                                                                                         |3     |\n",
            "|Didn't work for me                                                                            |Y   |[didn't, work, for, me]                                                                                        |4     |\n",
            "|Great for personal use but may not be the right size for classroom work                       |Y   |[great, for, personal, use, but, may, not, be, the, right, size, for, classroom, work]                         |14    |\n",
            "|Stands tall on it's 100lbs claims                                                             |Y   |[stands, tall, on, it's, 100lbs, claims]                                                                       |6     |\n",
            "|Quite possibly the worst product Five Star has ever made. Just terrible!                      |Y   |[quite, possibly, the, worst, product, five, star, has, ever, made., just, terrible!]                          |12    |\n",
            "+----------------------------------------------------------------------------------------------+----+---------------------------------------------------------------------------------------------------------------+------+\n",
            "only showing top 20 rows\n",
            "\n"
          ],
          "name": "stdout"
        }
      ]
    },
    {
      "cell_type": "code",
      "metadata": {
        "id": "zTF9bgLcfbUn",
        "colab_type": "code",
        "colab": {}
      },
      "source": [
        "# Create our Tokenize sentences\n",
        "tokenizer = Tokenizer(inputCol=\"review_body\", outputCol=\"words\")"
      ],
      "execution_count": null,
      "outputs": []
    },
    {
      "cell_type": "code",
      "metadata": {
        "id": "fIFLYQZifbSQ",
        "colab_type": "code",
        "colab": {}
      },
      "source": [
        "# Transform DataFrame\n",
        "review_body_tokenized = tokenizer.transform(review_body_Yes_df)"
      ],
      "execution_count": null,
      "outputs": []
    },
    {
      "cell_type": "code",
      "metadata": {
        "id": "EEzSEFsnpeDw",
        "colab_type": "code",
        "colab": {}
      },
      "source": [
        "# Configure settings for RDS\n",
        "mode = \"append\"\n",
        "jdbc_url=\"jdbc:postgresql://dataviz2.cdvvuej8kzy3.us-east-2.rds.amazonaws.com:5432/Challenge\"\n",
        "config = {\"user\":\"postgres2\", \n",
        "          \"password\": \"passenger8808\", \n",
        "          \"driver\":\"org.postgresql.Driver\"}"
      ],
      "execution_count": null,
      "outputs": []
    },
    {
      "cell_type": "code",
      "metadata": {
        "id": "0Zqz99bjpeCG",
        "colab_type": "code",
        "colab": {}
      },
      "source": [
        "# Write DataFrame to office_user table in RDS\n",
        "office_df.write.jdbc(url=jdbc_url, table='office', mode=mode, properties=config)"
      ],
      "execution_count": null,
      "outputs": []
    },
    {
      "cell_type": "code",
      "metadata": {
        "id": "LO_9jbXGpd44",
        "colab_type": "code",
        "colab": {}
      },
      "source": [
        "# Write DataFrame to office_user table in RDS\n",
        "product_title_Yes_df.write.jdbc(url=jdbc_url, table='products', mode=mode, properties=config)"
      ],
      "execution_count": null,
      "outputs": []
    },
    {
      "cell_type": "code",
      "metadata": {
        "id": "f2TFb7D_Xe4I",
        "colab_type": "code",
        "colab": {}
      },
      "source": [
        "# Write DataFrame to office_user table in RDS\n",
        "review_body_Yes_df.write.jdbc(url=jdbc_url, table='review_id_table', mode=mode, properties=config)"
      ],
      "execution_count": null,
      "outputs": []
    }
  ]
}